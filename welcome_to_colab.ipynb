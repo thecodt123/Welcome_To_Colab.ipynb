{
  "cells": [
    {
      "cell_type": "markdown",
      "metadata": {
        "id": "view-in-github",
        "colab_type": "text"
      },
      "source": [
        "<a href=\"https://colab.research.google.com/github/thecodt123/Welcome_To_Colab.ipynb/blob/main/welcome_to_colab.ipynb\" target=\"_parent\"><img src=\"https://colab.research.google.com/assets/colab-badge.svg\" alt=\"Open In Colab\"/></a>"
      ]
    },
    {
      "cell_type": "markdown",
      "metadata": {
        "id": "Pet3GgbBhN9P"
      },
      "source": [
        "Web scraping is a powerful data retrieval method that can be used to extract a vast amount of text data found in reviews, tweets and blogs. In turn, this data can be used for sentiment analysis to classify text into useful social insights."
      ]
    },
    {
      "cell_type": "code",
      "execution_count": null,
      "metadata": {
        "colab": {
          "base_uri": "https://localhost:8080/"
        },
        "id": "gJr_9dXGpJ05",
        "outputId": "1a80294b-70b0-4259-aad7-0134682f42f3"
      },
      "outputs": [
        {
          "name": "stdout",
          "output_type": "stream",
          "text": [
            "Requirement already satisfied: beautifulsoup4 in /usr/local/lib/python3.10/dist-packages (4.12.3)\n",
            "Requirement already satisfied: soupsieve>1.2 in /usr/local/lib/python3.10/dist-packages (from beautifulsoup4) (2.5)\n"
          ]
        }
      ],
      "source": [
        "pip install beautifulsoup4"
      ]
    },
    {
      "cell_type": "code",
      "execution_count": null,
      "metadata": {
        "colab": {
          "base_uri": "https://localhost:8080/"
        },
        "id": "hJsvDqi3Jgjw",
        "outputId": "4a36166d-68d3-4d5d-f62d-4b8fca6f102b"
      },
      "outputs": [
        {
          "name": "stdout",
          "output_type": "stream",
          "text": [
            "<!DOCTYPE html>\n",
            "<html lang=\"en\">\n",
            " <head>\n",
            "  <link href=\"https://cdn.codechef.com/favicon.ico\" rel=\"shortcut icon\" type=\"image/x-icon\"/>\n",
            "  <title>\n",
            "   CodeChef: Practical coding for everyone\n",
            "  </title>\n",
            "  <meta charset=\"utf-8\"/>\n",
            "  <meta content=\"Learn to code for free using our beginner friendly and interactive learning courses. Get all the practical skills required to excel at computer science. Start learning with CodeChef today and unlock your potential as a developer!\" name=\"description\"/>\n",
            "  <meta content=\"https://cdn.codechef.com/sites/all/themes/abessive/cc-logo.png\" name=\"og:image\"/>\n",
            "  <meta content=\"website\" name=\"og:type\"/>\n",
            "  <meta content=\"#000000\" name=\"theme-color\"/>\n",
            "  <meta content=\"index, follow\" name=\"robots\"/>\n",
            "  <link href=\"https://www.codechef.com/dashboard\" rel=\"canonical\"/>\n",
            "  <script>\n",
            "   if (\n",
            "      (['pro', 'contests'].includes(window.location.pathname.split('/').filter(Boolean).pop())) ||\n",
            "      (['learn', 'games', 'viewsolution',\n",
            "        'submit', 'practice', 'dashboard', 'getting-started', 'skill-test', 'college-program', 'practice-old',\n",
            "        'roadmap', 'blogs', 'roadmaps', 'blogs', 'skill-tests'\n",
            "      ].includes(window.location.pathname.split('/').filter(Boolean)[0])) ||\n",
            "      (['submit'].includes(window.location.pathname.split('/').filter(Boolean)[1])) ||\n",
            "      (['status'].includes(window.location.pathname.split('/').filter(Boolean).slice(-2, -1).pop())) || [\n",
            "        // Regex to match the practice and contest submit routes\n",
            "        /^\\/(submit\\/([A-Z]+[A-Z0-9_]*)+|problems\\/([A-Z]+[A-Z0-9_]*)+|([A-Z]+[A-Z0-9_]*)+\\/submit\\/([A-Z]+[A-Z0-9_]*)+|([A-Z]+[A-Z0-9_]*)+\\/problems\\/([A-Z]+[A-Z0-9_]*)+)$/\n",
            "      ].some((regexp) => (regexp.test(window.location.pathname)))\n",
            "    ) {\n",
            "      const metaElement = document.createElement('meta');\n",
            "      metaElement.setAttribute('name', 'viewport');\n",
            "      metaElement.setAttribute('content', 'width=device-width, initial-scale=1');\n",
            "      document.head.appendChild(metaElement);\n",
            "    }\n",
            "\n",
            "    (function (w, d, s, l, i) {\n",
            "      w[l] = w[l] || [];\n",
            "      w[l].push({\n",
            "        'gtm.start': new Date().getTime(),\n",
            "        event: 'gtm.js'\n",
            "      });\n",
            "      var f = d.getElementsByTagName(s)[0],\n",
            "        j = d.createElement(s),\n",
            "        dl = l != 'dataLayer' ? '&l=' + l : '';\n",
            "      j.async = true;\n",
            "      j.src =\n",
            "        'https://www.googletagmanager.com/gtm.js?id=' + i + dl;\n",
            "      f.parentNode.insertBefore(j, f);\n",
            "    })(window, document, 'script', 'dataLayer', 'GTM-TV5X2M');\n",
            "  </script>\n",
            "  <script crossorigin=\"\" src=\"https://static.codechef.com/build/react2/assets/index-SZF5EjIZ.js\" type=\"module\">\n",
            "  </script>\n",
            "  <link crossorigin=\"\" href=\"https://static.codechef.com/build/react2/assets/ace-qigkNPJw.js\" rel=\"modulepreload\"/>\n",
            "  <link crossorigin=\"\" href=\"https://static.codechef.com/build/react2/assets/vendor-BsHrtRcN.js\" rel=\"modulepreload\"/>\n",
            "  <link crossorigin=\"\" href=\"https://static.codechef.com/build/react2/assets/index-FRwUwNvo.css\" rel=\"stylesheet\"/>\n",
            " </head>\n",
            " <body style=\"\">\n",
            "  <noscript>\n",
            "   You need to enable JavaScript to run this app.\n",
            "  </noscript>\n",
            "  <div id=\"root\">\n",
            "  </div>\n",
            "  <script>\n",
            "   if (window.location.pathname.split('/')[1] === 'pro') {\n",
            "      const razorPay = document.createElement('script');\n",
            "      razorPay.setAttribute('src', 'https://checkout.razorpay.com/v1/checkout.js');\n",
            "      document.head.appendChild(razorPay);\n",
            "\n",
            "      // const instamojo = document.createElement('script');\n",
            "      // instamojo.setAttribute('src', 'https://js.instamojo.com/v1/checkout.js');\n",
            "      // document.head.appendChild(instamojo);\n",
            "\n",
            "    }\n",
            "    if (window.location.pathname.split('/')[1] !== 'games') {\n",
            "      const scriptElement = document.createElement('script');\n",
            "      scriptElement.setAttribute('src',\n",
            "        \"/sites/all/modules/codechef_alerts/codechef_alerts.js?v=649c43b6894169b33b5557aa0374459d\"\n",
            "      );\n",
            "      document.body.appendChild(scriptElement);\n",
            "    }\n",
            "  </script>\n",
            "  <script src=\"/sites/all/themes/mallow/src/js/cookies.js?v=c0c952b5f5af42bd78098f00c77cfa63\" type=\"text/javascript\">\n",
            "  </script>\n",
            " </body>\n",
            "</html>\n",
            "<script>\n",
            " window.CDN_URL = 'https://cdn.codechef.com';\n",
            "    window.csrfToken = \"6d5d21c2a7b1aaac7aed9913f67ef0b5d98fe1192bf9b72cbc1d445ffa403953\";\n",
            "    window.APPS_URL = 'https://www.codechef-apps.com';\n",
            "    try {\n",
            "        window.codeChefUserData = {\"status\":\"success\",\"user\":{\"username\":\"\",\"uid\":\"0\",\"profileImage\":null,\"profileImagePath\":\"https:\\/\\/cdn.codechef.com\\/sites\\/all\\/themes\\/abessive\\/images\\/user_default_thumb.jpg\",\"oauth_buttons\":null,\"oauthData\":null,\"isUserTeam\":false,\"html_handle\":\"\",\"userRatingStar\":\"0\",\"userRatingStarColor\":\"black\",\"isAdmin\":false,\"isHYCAdmin\":false,\"isPremiumUser\":false,\"isVerifiedUser\":true,\"user_consented_privacy_policy_version\":null,\"user_consented_privacy_policy_on\":null,\"current_privacy_policy_version\":\"9721896\",\"visitedContests\":[],\"rating\":-1,\"userStarHtml\":\"\",\"proDiscount\":null,\"theme\":\"dark\",\"fullName\":\"\",\"pro_plan\":null,\"sale\":{\"isSaleOngoing\":true,\"saleDaysLeft\":10},\"isUserPartOfAnyUserGroup\":false},\"time\":1714770059,\"ip\":\"34.139.105.139\",\"adStrip\":null};\n",
            "    } catch (e) {\n",
            "        window.codeChefUserData = {};\n",
            "    }\n",
            "</script>\n",
            "\n"
          ]
        }
      ],
      "source": [
        "import requests\n",
        "from bs4 import BeautifulSoup\n",
        "req=requests.get(\"https://www.codechef.com/dashboard\")\n",
        "soup=BeautifulSoup(req.content,\"html.parser\")\n",
        "print(soup.prettify())"
      ]
    },
    {
      "cell_type": "code",
      "execution_count": null,
      "metadata": {
        "colab": {
          "base_uri": "https://localhost:8080/"
        },
        "id": "5s-9DXqzFU7r",
        "outputId": "92b5a971-2985-40ef-dd23-2b3f2ed018e6"
      },
      "outputs": [
        {
          "name": "stdout",
          "output_type": "stream",
          "text": [
            "\n",
            "\n",
            "\n",
            "\n",
            "CodeChef: Practical coding for everyone\n",
            "\n",
            "\n",
            "\n",
            "\n",
            "\n",
            "\n",
            "\n",
            "\n",
            "\n",
            "\n",
            "\n",
            "\n",
            "\n",
            "\n",
            "You need to enable JavaScript to run this app.\n",
            "\n",
            "\n",
            "\n",
            "\n",
            "\n",
            "\n",
            "\n"
          ]
        }
      ],
      "source": [
        "import requests\n",
        "from bs4 import BeautifulSoup\n",
        "req=requests.get(\"https://www.codechef.com/dashboard\")\n",
        "soup=BeautifulSoup(req.content,\"html.parser\")\n",
        "print(soup.get_text())"
      ]
    },
    {
      "cell_type": "code",
      "execution_count": null,
      "metadata": {
        "colab": {
          "base_uri": "https://localhost:8080/"
        },
        "id": "72nMuN8SLQPA",
        "outputId": "311c5b2a-bc30-470a-e493-6dd94e19dd7d"
      },
      "outputs": [
        {
          "name": "stdout",
          "output_type": "stream",
          "text": [
            "CodeChef: Practical coding for everyone\n"
          ]
        }
      ],
      "source": [
        "import requests\n",
        "from bs4 import BeautifulSoup\n",
        "req=requests.get(\"https://www.codechef.com/dashboard\")\n",
        "soup=BeautifulSoup(req.content,\"html.parser\")\n",
        "res=soup.title\n",
        "print(res.get_text())"
      ]
    }
  ],
  "metadata": {
    "colab": {
      "provenance": [],
      "toc_visible": true,
      "include_colab_link": true
    },
    "kernelspec": {
      "display_name": "Python 3",
      "name": "python3"
    }
  },
  "nbformat": 4,
  "nbformat_minor": 0
}